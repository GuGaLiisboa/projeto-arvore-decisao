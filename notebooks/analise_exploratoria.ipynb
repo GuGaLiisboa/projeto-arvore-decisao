{
 "cells": [
  {
   "cell_type": "markdown",
   "id": "c357e99d",
   "metadata": {},
   "source": [
    "# Análise Exploratória e Modelagem com Árvores de Decisão  \n",
    "**Projeto de Machine Learning Aplicado ao Varejo - Luiz Gustavo Lisboa Viana | 6ºP Sistema de Informação**"
   ]
  },
  {
   "cell_type": "markdown",
   "id": "0e0ef82c",
   "metadata": {},
   "source": [
    "## 1. Importação de Bibliotecas"
   ]
  },
  {
   "cell_type": "code",
   "execution_count": null,
   "id": "c68497c6",
   "metadata": {},
   "outputs": [],
   "source": [
    "import pandas as pd\n",
    "import seaborn as sns\n",
    "import matplotlib.pyplot as plt\n",
    "from sklearn.model_selection import train_test_split\n",
    "from sklearn.preprocessing import LabelEncoder\n",
    "from sklearn.tree import DecisionTreeClassifier, plot_tree\n",
    "from sklearn.metrics import classification_report, confusion_matrix, accuracy_score\n",
    "\n",
    "plt.rcParams[\"figure.figsize\"] = (10, 6)"
   ]
  },
  {
   "cell_type": "markdown",
   "id": "3819c854",
   "metadata": {},
   "source": [
    "## 2. Carregamento de Dados"
   ]
  },
  {
   "cell_type": "code",
   "execution_count": null,
   "id": "11f4d601",
   "metadata": {},
   "outputs": [],
   "source": [
    "df = pd.read_csv(\"../uploads/dataset.csv\")\n",
    "df[\"Data_Pedido\"] = pd.to_datetime(df[\"Data_Pedido\"], format=\"%d/%m/%Y\")\n",
    "df.head()"
   ]
  },
  {
   "cell_type": "markdown",
   "id": "50259f72",
   "metadata": {},
   "source": [
    "## 3. Análise Exploratória"
   ]
  },
  {
   "cell_type": "code",
   "execution_count": null,
   "id": "190e5833",
   "metadata": {},
   "outputs": [],
   "source": [
    "print(\"🔎 Informações gerais:\")\n",
    "print(df.info())\n",
    "print(\"\\n📊 Estatísticas descritivas:\")\n",
    "print(df.describe())\n",
    "print(\"\\n🧼 Valores ausentes por coluna:\")\n",
    "print(df.isnull().sum())"
   ]
  },
  {
   "cell_type": "code",
   "execution_count": null,
   "id": "7e77b473",
   "metadata": {},
   "outputs": [],
   "source": [
    "sns.histplot(df[\"Valor_Venda\"], bins=30, kde=True)\n",
    "plt.title(\"Distribuição de Valor de Venda\")\n",
    "plt.show()"
   ]
  },
  {
   "cell_type": "code",
   "execution_count": null,
   "id": "0d1716d2",
   "metadata": {},
   "outputs": [],
   "source": [
    "sns.countplot(data=df, x='Categoria')\n",
    "plt.title(\"Distribuição por Categoria\")\n",
    "plt.xticks(rotation=45)\n",
    "plt.show()"
   ]
  },
  {
   "cell_type": "code",
   "execution_count": null,
   "id": "6d1c480f",
   "metadata": {},
   "outputs": [],
   "source": [
    "df.groupby(df[\"Data_Pedido\"].dt.to_period(\"M\"))[\"Valor_Venda\"].sum().plot()\n",
    "plt.title(\"Evolução Mensal das Vendas\")\n",
    "plt.ylabel(\"Total de Vendas\")\n",
    "plt.xticks(rotation=45)\n",
    "plt.tight_layout()\n",
    "plt.show()"
   ]
  },
  {
   "cell_type": "markdown",
   "id": "32b05864",
   "metadata": {},
   "source": [
    "## 4. Preparação dos Dados"
   ]
  },
  {
   "cell_type": "code",
   "execution_count": null,
   "id": "3426ca66",
   "metadata": {},
   "outputs": [],
   "source": [
    "# Engenharia de Features\n",
    "df[\"Ano\"] = df[\"Data_Pedido\"].dt.year\n",
    "df[\"Mes\"] = df[\"Data_Pedido\"].dt.month\n",
    "\n",
    "# Codificação de variáveis categóricas\n",
    "label_encoders = {}\n",
    "for col in [\"Segmento\", \"Pais\", \"Estado\", \"Cidade\"]:\n",
    "    le = LabelEncoder()\n",
    "    df[f\"{col}_Encoded\"] = le.fit_transform(df[col])\n",
    "    label_encoders[col] = le"
   ]
  },
  {
   "cell_type": "code",
   "execution_count": null,
   "id": "2d2498cb",
   "metadata": {},
   "outputs": [],
   "source": [
    "# Seleção de features e variável alvo\n",
    "X = df[[\"Valor_Venda\", \"Segmento_Encoded\", \"Pais_Encoded\", \"Estado_Encoded\", \"Mes\", \"Ano\"]]\n",
    "y = df[\"Categoria\"]\n",
    "\n",
    "# Separação treino/teste\n",
    "X_train, X_test, y_train, y_test = train_test_split(X, y, test_size=0.3, random_state=42)\n",
    "\n",
    "print(f\"🔹 Treino: {X_train.shape[0]} amostras\")\n",
    "print(f\"🔹 Teste: {X_test.shape[0]} amostras\")"
   ]
  },
  {
   "cell_type": "markdown",
   "id": "ddcaf793",
   "metadata": {},
   "source": [
    "## 5. Modelagem com Árvores de Decisão"
   ]
  },
  {
   "cell_type": "code",
   "execution_count": null,
   "id": "fcb3fea2",
   "metadata": {},
   "outputs": [],
   "source": [
    "model = DecisionTreeClassifier(max_depth=5, random_state=42)\n",
    "model.fit(X_train, y_train)\n",
    "y_pred = model.predict(X_test)"
   ]
  },
  {
   "cell_type": "markdown",
   "id": "6667b6fe",
   "metadata": {},
   "source": [
    "## 6. Avaliação do Modelo"
   ]
  },
  {
   "cell_type": "code",
   "execution_count": null,
   "id": "33c30a7b",
   "metadata": {},
   "outputs": [],
   "source": [
    "acc = accuracy_score(y_test, y_pred)\n",
    "print(f\"Acurácia: {acc:.4f} ({acc * 100:.2f}%)\")\n",
    "print(\"📋 Relatório de Classificação:\")\n",
    "print(classification_report(y_test, y_pred))"
   ]
  },
  {
   "cell_type": "code",
   "execution_count": null,
   "id": "9284c4ee",
   "metadata": {},
   "outputs": [],
   "source": [
    "cm = confusion_matrix(y_test, y_pred)\n",
    "sns.heatmap(cm, annot=True, fmt='d', cmap='Blues', xticklabels=model.classes_, yticklabels=model.classes_)\n",
    "plt.xlabel(\"Previsão\")\n",
    "plt.ylabel(\"Valor Real\")\n",
    "plt.title(\"Matriz de Confusão\")\n",
    "plt.tight_layout()\n",
    "plt.show()"
   ]
  },
  {
   "cell_type": "markdown",
   "id": "ec22c745",
   "metadata": {},
   "source": [
    "## 7. Visualização da Árvore e Importância das Features"
   ]
  },
  {
   "cell_type": "code",
   "execution_count": null,
   "id": "983c4a1c",
   "metadata": {},
   "outputs": [],
   "source": [
    "plt.figure(figsize=(20, 10))\n",
    "plot_tree(model, filled=True, feature_names=X.columns, class_names=model.classes_, rounded=True)\n",
    "plt.title(\"Árvore de Decisão - Profundidade Máxima = 5\")\n",
    "plt.show()"
   ]
  },
  {
   "cell_type": "code",
   "execution_count": null,
   "id": "8b2c3963",
   "metadata": {},
   "outputs": [],
   "source": [
    "importances = pd.Series(model.feature_importances_, index=X.columns)\n",
    "importances.sort_values(ascending=True).plot(kind=\"barh\")\n",
    "plt.title(\"Importância das Features\")\n",
    "plt.xlabel(\"Importância\")\n",
    "plt.tight_layout()\n",
    "plt.show()"
   ]
  },
  {
   "cell_type": "markdown",
   "id": "26447894",
   "metadata": {},
   "source": [
    "### ✅ Validação Cruzada (Cross-Validation)\n",
    "\n",
    "Para garantir a robustez do modelo de Árvore de Decisão, aplicamos validação cruzada com 5 folds (divisões dos dados).  \n",
    "Essa técnica avalia o desempenho do modelo em diferentes subconjuntos do conjunto de dados, evitando vieses na separação treino/teste.\n",
    "\n",
    "As métricas obtidas permitem verificar a consistência do modelo, sua acurácia média e o desvio padrão entre os folds.\n",
    "\n",
    "Isso é essencial para confirmar que o modelo está generalizando bem e não está sobreajustado a um subconjunto específico dos dados."
   ]
  },
  {
   "cell_type": "code",
   "execution_count": null,
   "id": "56fe62ad",
   "metadata": {},
   "outputs": [],
   "source": [
    "from sklearn.model_selection import cross_val_score\n",
    "\n",
    "# Validação cruzada com 5 folds\n",
    "cv_scores = cross_val_score(\n",
    "    model, X, y,\n",
    "    cv=5,\n",
    "    scoring='accuracy'\n",
    ")\n",
    "\n",
    "# Exibição dos resultados\n",
    "print(\"📊 Validação Cruzada - Acurácia por fold:\")\n",
    "for i, score in enumerate(cv_scores, 1):\n",
    "    print(f\"Fold {i}: {score:.4f} ({score * 100:.2f}%)\")\n",
    "\n",
    "print(\"\\n📈 Acurácia média:\", f\"{cv_scores.mean():.4f} ({cv_scores.mean() * 100:.2f}%)\")\n",
    "print(\"📉 Desvio padrão:\", f\"{cv_scores.std():.4f}\")"
   ]
  },
  {
   "cell_type": "markdown",
   "id": "159fe073",
   "metadata": {},
   "source": [
    "### 📊 Visualização da Validação Cruzada\n",
    "\n",
    "O gráfico abaixo mostra a acurácia obtida em cada um dos 5 folds utilizados na validação cruzada.  \n",
    "É possível observar que os resultados são consistentes entre os folds, o que indica que o modelo tem um bom poder de generalização.\n",
    "\n",
    "Isso reforça a confiança no desempenho do modelo, mostrando que ele não está dependendo de uma divisão específica dos dados para obter bons resultados."
   ]
  },
  {
   "cell_type": "code",
   "execution_count": null,
   "id": "47aaf8a7",
   "metadata": {},
   "outputs": [],
   "source": [
    "import matplotlib.pyplot as plt\n",
    "\n",
    "# Gráfico de barras com acurácia por fold\n",
    "plt.figure(figsize=(8, 5))\n",
    "plt.bar(range(1, 6), cv_scores, color='skyblue')\n",
    "plt.ylim(0.6, 0.65)\n",
    "plt.xticks(range(1, 6))\n",
    "plt.title(\"Acurácia por Fold - Validação Cruzada (5 Folds)\")\n",
    "plt.xlabel(\"Fold\")\n",
    "plt.ylabel(\"Acurácia\")\n",
    "plt.grid(axis='y', linestyle='--', alpha=0.7)\n",
    "\n",
    "# Exibir valores acima de cada barra\n",
    "for i, score in enumerate(cv_scores):\n",
    "    plt.text(i + 1, score + 0.002, f\"{score * 100:.2f}%\", ha='center', va='bottom')\n",
    "\n",
    "plt.tight_layout()\n",
    "plt.show()"
   ]
  }
 ],
 "metadata": {
  "kernelspec": {
   "display_name": "venv",
   "language": "python",
   "name": "python3"
  },
  "language_info": {
   "codemirror_mode": {
    "name": "ipython",
    "version": 3
   },
   "file_extension": ".py",
   "mimetype": "text/x-python",
   "name": "python",
   "nbconvert_exporter": "python",
   "pygments_lexer": "ipython3",
   "version": "3.12.6"
  }
 },
 "nbformat": 4,
 "nbformat_minor": 5
}
